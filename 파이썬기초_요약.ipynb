{
  "nbformat": 4,
  "nbformat_minor": 0,
  "metadata": {
    "colab": {
      "provenance": [],
      "authorship_tag": "ABX9TyMpLwfuOziIbYPoVQsKl7eA",
      "include_colab_link": true
    },
    "kernelspec": {
      "name": "python3",
      "display_name": "Python 3"
    },
    "language_info": {
      "name": "python"
    }
  },
  "cells": [
    {
      "cell_type": "markdown",
      "metadata": {
        "id": "view-in-github",
        "colab_type": "text"
      },
      "source": [
        "<a href=\"https://colab.research.google.com/github/WaterPurify/PythonStudy/blob/main/%ED%8C%8C%EC%9D%B4%EC%8D%AC%EA%B8%B0%EC%B4%88_%EC%9A%94%EC%95%BD.ipynb\" target=\"_parent\"><img src=\"https://colab.research.google.com/assets/colab-badge.svg\" alt=\"Open In Colab\"/></a>"
      ]
    },
    {
      "cell_type": "markdown",
      "source": [
        "# 기초 문법\n",
        "\n",
        "\n",
        "## *   숫자형 자료형\n",
        "    \n",
        "*   기본적인 숫자 연산이 가능\n",
        "    (덧셈,뺄셈,곱셈,나눗넴,몫,나머지)\n",
        "*   지수표현 가능 3.14E10,3.14E-10\n",
        "\n",
        "<br><br>\n",
        "\n",
        "\n",
        "\n",
        "##*   문자열 자료형\n",
        "*   문자를 표현하는 자료형\n",
        "*   문자열끼리 덧셈은 붙여주는 역할을 함\n",
        "*   문자열 자료형은 꼭 처음과 끝에 작은 따옴표 (' ') 또는 큰 따음표 (\" \")를 붙여줘야 함\n",
        "*   엔터나 탭키도 모두 문자이므로 유의\n",
        "\n",
        "<br><br>\n",
        "\n",
        "\n",
        "\n",
        "##*   리스트 자료형\n",
        "\n",
        "*   데이터들을 보관하는 자료형\n",
        "*   대괄호 ([])로 표현\n",
        "\n",
        "<br><br>\n",
        "\n",
        "\n",
        "\n",
        "##*   튜플 자료형\n",
        "\n",
        "*   데이터들을 보관하는 자료형\n",
        "*   한번 정하면 절대 수정하거나 삭제할 수 없음\n",
        "*   소괄호 (())로 표현\n",
        "*   list() 함수를 사용해서 리스트로 변환 가능\n",
        "\n",
        "\n",
        "<br><br>\n",
        "\n",
        "\n",
        "\n",
        "##*   딕셔너리 자료형\n",
        "*   데이터들을 보관하는 자료형\n",
        "*   1:1 대응관계를 가짐\n",
        "*   무조건 Key값 기준\n",
        "*   중괄호 ({})로 데이터들을 표현\n",
        "\n",
        "\n",
        "<br><br>\n",
        "##* 집합 자료형\n",
        "*   순서가 없다\n",
        "*   중복을 허용하지 않는다\n",
        "*   내장함수 set()함수를 사용해서 집합 생성 가능\n",
        "\n",
        "\n",
        "<br><br>\n",
        "##* bool 자료형\n",
        "*   참과 거짓을 의미하는 자료형\n",
        "*   비어있으면 거짓\n",
        "\n",
        "\n",
        "\n",
        "\n",
        "\n",
        "\n",
        "\n"
      ],
      "metadata": {
        "id": "jzykcfsjpkWW"
      }
    },
    {
      "cell_type": "markdown",
      "source": [
        "##* 변수 복사\n",
        "*   변수1=변수2는 복사하는 개념이 아님.같은 취금을 하겠다는 의미\n",
        "*   from copy import copy 라이브러리를 사용하거나 슬라이싱이 가능한 경우 [:]로 복사 가능\n",
        "\n",
        "<br><br>\n",
        "##* 조건문 IF문\n",
        "*   상화에 따라 다르게 코드가 수행되게 하는 제어문\n",
        "*  if,elif,else를 통해 조건을 다양하게 표현 가능\n",
        "\n",
        "<br><br>\n",
        "##* 반복문 while문\n",
        "*  조건이 참인 동안 반복하는 반복문\n",
        "*  항상 조건이 참이 되지 않게 유의하거나 break 함수를 잘 활용해야함\n",
        "\n",
        "<br><br>\n",
        "##* 반복문 for문\n",
        "*  내가 요청한 만큼 순서대로 반복하는 반복문\n",
        "*  range() 함수와 함께 사용하면 범위도 반복할 수 있음\n",
        "\n",
        "<br><br>\n",
        "##* 함수\n",
        "*  미리 만들어놓고 나중에 필요할 때 가져와서 사용하는 기능\n",
        "*  함수 안에서 사용되는 변수는 함수 안에서만 영향을 미침\n",
        "\n",
        "\n",
        "<br><br>\n",
        "##* 클래스\n",
        "*  붕어빵을 계속해서 만들어낼 수 있는 틀\n",
        "*  함수들과 변수들을 모아놓은 주머니\n",
        "*  동일한 객체를 여러개 생성할 수 있어 각각의 객체를 독립적으로 관리하기가 용이함\n",
        "\n",
        "\n"
      ],
      "metadata": {
        "id": "M1NE7np6ttJC"
      }
    },
    {
      "cell_type": "markdown",
      "source": [
        "<br><br>\n",
        "##* 예외처리\n",
        "*  에러가 났을 때, 에러를 무시하는 기술\n",
        "*  try 코드안에서 에러가 나면 except를 실행함\n",
        "*  raise 키워드를 이용해서 에러를 강제로 발생 시킬 수도 있음\n",
        "\n",
        "<br><br>\n",
        "##* 내장함수\n",
        "*  파이썬에서 기본적으로 제공하고 있는 기본함수\n",
        "*  print,len 한수 등이 있음\n",
        "\n",
        "<br><br>\n",
        "##* 라이브러리\n",
        "*  다른 사람이 만들어 놓은 프로그램을 가져오는 기능\n",
        "*  약 4만개가 존재\n",
        "*  라이브러리를 사용하면 개발 시간을 대폭 단축시킬 수 있음"
      ],
      "metadata": {
        "id": "wELjmQ9_wuon"
      }
    }
  ]
}